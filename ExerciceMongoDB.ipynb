{
 "cells": [
  {
   "cell_type": "markdown",
   "id": "104ac37a",
   "metadata": {},
   "source": [
    "<div style=\"display: flex ; background-color: #2062D5;\" > \n",
    "<h1 style=\"margin: auto; padding: 20px; font-size: 35px;\">MongoDB Requetes NoSQL </h1> \n",
    "</div>"
   ]
  },
  {
   "cell_type": "markdown",
   "id": "8bb97ca0",
   "metadata": {},
   "source": [
    "<div style=\"font-size: 15px; padding:5px\">  <u> Liens utiles</u> : <ul> \n",
    "<li><a href=\"https://geekflare.com/fr/mongodb-queries-examples/\"> commandes fréquentes </a> </li> <br/> \n",
    "<li> <a href=\"https://www.mongodb.com/docs/manual/\"> manual </a> </li> <br/>\n",
    "<li> <a href=\"https://www.mongodb.com/docs/manual/reference/command/count/\"> count </a> </li> <br/>\n",
    "<li> <a href=\"https://www.mongodb.com/docs/manual/reference/method/db.collection.find/\"> find </a> </li> <br/>\n",
    "<li> <a href=\"https://www.mongodb.com/docs/manual/reference/operator/query/regex/\"> regex</a> </li> <br/>\n",
    "<li> <a href=\"https://www.mongodb.com/docs/manual/reference/operator/query/all/\"> all </a> </li> <br/>\n",
    "<li> <a href=\"https://www.mongodb.com/docs/manual/core/aggregation-pipeline/\"> aggregation pipeline </a> </li> <br/>\n",
    "<li> <a href=\"https://www.mongodb.com/docs/manual/reference/operator/aggregation-pipeline/\"> aggregation pipeline stages </a> </li> <br/>\n",
    "</ul> </div> "
   ]
  },
  {
   "cell_type": "markdown",
   "id": "0780ab64",
   "metadata": {},
   "source": [
    "<div style=\"border: 1px dotted #2062D5;\">\n",
    "<p style=\"margin: auto ; padding:10px; color:#2062D5; font-size: 24px;\"> clear le terminal de mongosh </p> \n",
    "<p style=\"margin: auto ; padding:10px; font-size: 15px;\"> Ctrl + L  </p>\n",
    "</div>"
   ]
  },
  {
   "cell_type": "markdown",
   "id": "30b335b4",
   "metadata": {},
   "source": [
    "<div style=\"border: 1px dotted #2062D5;\">\n",
    "<p style=\"margin: auto ; padding:10px; color:#2062D5; font-size: 24px;\"> Utiliser la database new_york </p> \n",
    "<p style=\"margin: auto ; padding:10px; font-size: 15px;\"> use new_york </p>\n",
    "</div>"
   ]
  },
  {
   "cell_type": "markdown",
   "id": "4f53578b",
   "metadata": {},
   "source": [
    "<div style=\"border: 1px solid #2062D5;\">\n",
    "<p style=\"margin: auto ; padding:10px; color:#2062D5; font-size: 24px;\"> Question 1 </p> \n",
    "<p style=\"margin: auto ; padding:10px; font-size: 15px;\"> Combien y a-t-il d’utilisateurs dans la base de données ? </p>\n",
    "</div>"
   ]
  },
  {
   "cell_type": "code",
   "execution_count": 2,
   "id": "3d8ec3a0",
   "metadata": {},
   "outputs": [],
   "source": [
    "# db.users.count()\n",
    "# db.runCommand( { count: 'users' } )"
   ]
  },
  {
   "cell_type": "markdown",
   "id": "c1bb441c",
   "metadata": {},
   "source": [
    "<div style=\"border: 1px solid #2062D5;\">\n",
    "<p style=\"margin: auto ; padding:10px; color:#2062D5; font-size: 24px;\"> Question 2 </p>\n",
    "<p style=\"margin: auto ; padding:10px; font-size: 15px;\"> Combien y a-t-il de films dans la base de données ? </p>\n",
    "</div>"
   ]
  },
  {
   "cell_type": "code",
   "execution_count": 3,
   "id": "e1ac2dd2",
   "metadata": {},
   "outputs": [],
   "source": [
    "# db.movies.count()"
   ]
  },
  {
   "cell_type": "markdown",
   "id": "e83eb1d4",
   "metadata": {},
   "source": [
    "<div style=\"border: 1px solid #2062D5;\">\n",
    "<p style=\"margin: auto ; padding:10px; color:#2062D5; font-size: 24px;\"> Question 3 </p>\n",
    "<p style=\"margin: auto ; padding:10px; font-size: 15px;\"> Quelle est l’occupation de Clifford Johnathan ? Ecrivez une requêtes dont la réponse affiche uniquement\n",
    "son nom et son occupation. </p>\n",
    "</div>"
   ]
  },
  {
   "cell_type": "code",
   "execution_count": 4,
   "id": "c1ef930a",
   "metadata": {},
   "outputs": [],
   "source": [
    "# db.users.find({'name': 'Clifford Johnathan'}, {'name': 1,'occupation':1})"
   ]
  },
  {
   "cell_type": "markdown",
   "id": "afc8e659",
   "metadata": {},
   "source": [
    "<div style=\"border: 1px solid #2062D5;\">\n",
    "<p style=\"margin: auto ; padding:10px; color:#2062D5; font-size: 24px;\"> Question 4 </p>\n",
    "<p style=\"margin: auto ; padding:10px; font-size: 15px;\"> Combien d’utilisateurs ont entre 18 et 30 ans (inclus) ? </p>\n",
    "</div>"
   ]
  },
  {
   "cell_type": "code",
   "execution_count": 5,
   "id": "4bc8e834",
   "metadata": {},
   "outputs": [],
   "source": [
    "# db.users.count( { $and : [ { \"age\": { $gte: 18 } } , { \"age\": { $lte: 30 } } ] } ) "
   ]
  },
  {
   "cell_type": "markdown",
   "id": "37b63163",
   "metadata": {},
   "source": [
    "<div style=\"border: 1px solid #2062D5;\">\n",
    "<p style=\"margin: auto ; padding:10px; color:#2062D5; font-size: 24px;\"> Question 5 </p>\n",
    "<p style=\"margin: auto ; padding:10px; font-size: 15px;\"> Combien d’utilisateurs sont artistes (artist) ou scientifiques (scientist) ? </p>\n",
    "<p style=\"margin: auto ; padding:10px; color:#2062D5; font-size: 15px;\"> </p>\n",
    "</div>"
   ]
  },
  {
   "cell_type": "code",
   "execution_count": 6,
   "id": "9286c7c9",
   "metadata": {},
   "outputs": [],
   "source": [
    "# db.users.find({ $or: [ { occupation: \"artist\" }, { occupation: \"scientist\" } ] }).count()"
   ]
  },
  {
   "cell_type": "markdown",
   "id": "6776edbd",
   "metadata": {},
   "source": [
    "<div style=\"border: 1px solid #2062D5;\">\n",
    "<p style=\"margin: auto ; padding:10px; color:#2062D5; font-size: 24px;\"> Question 6 </p>\n",
    "<p style=\"margin: auto ; padding:10px; font-size: 15px;\"> Quelles sont les dix femmes auteurs (writer) les plus âgées ? </p>\n",
    "<p style=\"margin: auto ; padding:10px; color:#2062D5; font-size: 15px;\"> </p>\n",
    "</div>"
   ]
  },
  {
   "cell_type": "code",
   "execution_count": null,
   "id": "4adc0791",
   "metadata": {},
   "outputs": [],
   "source": [
    "# db.users.find({}, { occupation: \"writer\", gender: \"F\" }).sort({ age: -1 }).limit(10)"
   ]
  },
  {
   "cell_type": "markdown",
   "id": "3e48cd54",
   "metadata": {},
   "source": [
    "<div style=\"border: 1px solid #2062D5;\">\n",
    "<p style=\"margin: auto ; padding:10px; color:#2062D5; font-size: 24px;\"> Question 7 </p>\n",
    "<p style=\"margin: auto ; padding:10px; font-size: 15px;\"> Quelles sont toutes les occupations présentes dans la base de données ? </p>\n",
    "<p style=\"margin: auto ; padding:10px; color:#2062D5; font-size: 15px;\"> </p>\n",
    "</div>"
   ]
  },
  {
   "cell_type": "code",
   "execution_count": null,
   "id": "88658f5c",
   "metadata": {},
   "outputs": [],
   "source": [
    "# db.users.distinct('occupation')"
   ]
  },
  {
   "cell_type": "markdown",
   "id": "9d8e5c6c",
   "metadata": {},
   "source": [
    "<div style=\"border: 1px solid #2062D5;\">\n",
    "<p style=\"margin: auto ; padding:10px; color:#2062D5; font-size: 24px;\"> Question 8 </p>\n",
    "<p style=\"margin: auto ; padding:10px; font-size: 15px;\"> Combien de films sont sortis dans les années quatre-vingt ? (l’année de sortie est indiquée entre\n",
    "parenthèses à la fin du titre de chaque film) </p>\n",
    "<p style=\"margin: auto ; padding:10px; color:#2062D5; font-size: 15px;\"> </p>\n",
    "</div>"
   ]
  },
  {
   "cell_type": "code",
   "execution_count": 11,
   "id": "9f55d8a1",
   "metadata": {},
   "outputs": [],
   "source": [
    "# db.movies.find({ \"title\": { $regex: \"80\" }} ).count()"
   ]
  },
  {
   "cell_type": "markdown",
   "id": "86baa6a8",
   "metadata": {},
   "source": [
    "<div style=\"border: 1px solid #2062D5;\">\n",
    "<p style=\"margin: auto ; padding:10px; color:#2062D5; font-size: 24px;\"> Question 9 </p>\n",
    "<p style=\"margin: auto ; padding:10px; font-size: 15px;\"> Combien y a-t-il de films d’horreur?</p>\n",
    "<p style=\"margin: auto ; padding:10px; color:#2062D5; font-size: 15px;\"> </p>\n",
    "</div>"
   ]
  },
  {
   "cell_type": "code",
   "execution_count": null,
   "id": "57d0b720",
   "metadata": {},
   "outputs": [],
   "source": [
    "# db.movies.find({ genres: { $regex: /Horror/ } }).count()"
   ]
  },
  {
   "cell_type": "markdown",
   "id": "097f3931",
   "metadata": {},
   "source": [
    "<div style=\"border: 1px solid #2062D5;\">\n",
    "<p style=\"margin: auto ; padding:10px; color:#2062D5; font-size: 24px;\"> Question 10 </p>\n",
    "<p style=\"margin: auto ; padding:10px; font-size: 15px;\">Combien de films ont pour type à la fois \"Musical\" et \"Romance\"?</p>\n",
    "<p style=\"margin: auto ; padding:10px; color:#2062D5; font-size: 15px;\"> </p>\n",
    "</div>"
   ]
  },
  {
   "cell_type": "code",
   "execution_count": 13,
   "id": "bfef7cce",
   "metadata": {},
   "outputs": [],
   "source": [
    "# db.movies.count({ genres: { $regex: /Musical.*Romance|Romance.*Musical/ } })"
   ]
  },
  {
   "cell_type": "markdown",
   "id": "de35cad4",
   "metadata": {},
   "source": [
    "<div style=\"border: 1px solid #2062D5;\">\n",
    "<p style=\"margin: auto ; padding:10px; color:#2062D5; font-size: 24px;\"> Question 11 </p>\n",
    "<p style=\"margin: auto ; padding:10px; font-size: 15px;\">Combien d’utilisateurs ont noté le film qui a pour id 1196 (Star Wars: Episode V - The Empire Strikes Back\n",
    "(1980)) ?</p>\n",
    "<p style=\"margin: auto ; padding:10px; color:#2062D5; font-size: 15px;\"> </p>\n",
    "</div>"
   ]
  },
  {
   "cell_type": "code",
   "execution_count": null,
   "id": "a84dc99a",
   "metadata": {},
   "outputs": [],
   "source": [
    "#"
   ]
  },
  {
   "cell_type": "markdown",
   "id": "dc8b961a",
   "metadata": {},
   "source": [
    "<div style=\"border: 1px solid #2062D5;\">\n",
    "<p style=\"margin: auto ; padding:10px; color:#2062D5; font-size: 24px;\"> Question 12 </p>\n",
    "<p style=\"margin: auto ; padding:10px; font-size: 15px;\">Combien d’utilisateurs ont noté tous les films de la première trilogie Star Wars (id 260, 1196, 1210) ?</p>\n",
    "<p style=\"margin: auto ; padding:10px; color:#2062D5; font-size: 15px;\"> </p>\n",
    "</div>"
   ]
  },
  {
   "cell_type": "code",
   "execution_count": null,
   "id": "1a7cec77",
   "metadata": {},
   "outputs": [],
   "source": [
    "#"
   ]
  },
  {
   "cell_type": "markdown",
   "id": "08f398f6",
   "metadata": {},
   "source": [
    "<div style=\"border: 1px solid #2062D5;\">\n",
    "<p style=\"margin: auto ; padding:10px; color:#2062D5; font-size: 24px;\"> Question 13 </p>\n",
    "<p style=\"margin: auto ; padding:10px; font-size: 15px;\">Combien d’utilisateurs ont notés exactement 48 films ?</p>\n",
    "<p style=\"margin: auto ; padding:10px; color:#2062D5; font-size: 15px;\"> </p>\n",
    "</div>"
   ]
  },
  {
   "cell_type": "code",
   "execution_count": null,
   "id": "1a2e3d74",
   "metadata": {},
   "outputs": [],
   "source": [
    "# db.users.find({movies: {$size: 48}} ).count()"
   ]
  },
  {
   "cell_type": "markdown",
   "id": "ed54b525",
   "metadata": {},
   "source": [
    "<i>Notez que $size ne peut être apparié qu’à des nombres exacts. La sélection des utilisateurs qui ont vu\n",
    "plus d’un certain nombre de films doit être effectuée en deux étapes ; c’est le sujet des questions\n",
    "suivantes.</i>"
   ]
  },
  {
   "cell_type": "markdown",
   "id": "5c7f95de",
   "metadata": {},
   "source": [
    "<div style=\"border: 1px solid #2062D5;\">\n",
    "<p style=\"margin: auto ; padding:10px; color:#2062D5; font-size: 24px;\"> Question 14 </p>\n",
    "<p style=\"margin: auto ; padding:10px; font-size: 15px;\">Pour chaque utilisateur, créer un champ num_ratings qui indique le nombre de films qu’il a notés.</p>\n",
    "<p style=\"margin: auto ; padding:10px; color:#2062D5; font-size: 15px;\"> </p>\n",
    "</div>"
   ]
  },
  {
   "cell_type": "code",
   "execution_count": null,
   "id": "f3b09cf4",
   "metadata": {},
   "outputs": [],
   "source": [
    "# db.users.aggregate( [ {  $addFields: {  num_ratings: { $size: \"$movies\" } , }, }, { $out: \"users\" }] )"
   ]
  },
  {
   "cell_type": "markdown",
   "id": "0650eced",
   "metadata": {},
   "source": [
    "<div style=\"border: 1px solid #2062D5;\">\n",
    "<p style=\"margin: auto ; padding:10px; color:#2062D5; font-size: 24px;\"> Question 15 </p>\n",
    "<p style=\"margin: auto ; padding:10px; font-size: 15px;\">Combien d’utilisateurs ont noté plus de 90 films ?</p>\n",
    "<p style=\"margin: auto ; padding:10px; color:#2062D5; font-size: 15px;\"> </p>\n",
    "</div>"
   ]
  },
  {
   "cell_type": "code",
   "execution_count": 9,
   "id": "3f78363f",
   "metadata": {},
   "outputs": [],
   "source": [
    "# db.users.find({ num_ratings: { $gte: 90 } }).count()"
   ]
  },
  {
   "cell_type": "markdown",
   "id": "19ec58bf",
   "metadata": {},
   "source": [
    "<div style=\"border: 1px solid #2062D5;\">\n",
    "<p style=\"margin: auto ; padding:10px; color:#2062D5; font-size: 24px;\"> Question 16 </p>\n",
    "<p style=\"margin: auto ; padding:10px; font-size: 15px;\">Quelle est la note moyenne du film Pulp Fiction, qui a pour id 296 ?</p>\n",
    "<p style=\"margin: auto ; padding:10px; color:#2062D5; font-size: 15px;\"> </p>\n",
    "</div>"
   ]
  },
  {
   "cell_type": "code",
   "execution_count": null,
   "id": "3abaa11a",
   "metadata": {},
   "outputs": [],
   "source": [
    "# db.users.aggregate([{$unwind: \"$movies\"}, {$match: {\"movies.movieid\": 296}}, {$group: {_id: 'Pulp Fiction', avg_val:{$avg: \"$movies.rating\"}}}])\n"
   ]
  },
  {
   "cell_type": "markdown",
   "id": "55623a8d",
   "metadata": {},
   "source": [
    "<div style=\"border: 1px solid #2062D5;\">\n",
    "<p style=\"margin: auto ; padding:10px; color:#2062D5; font-size: 24px;\"> Question 17 </p>\n",
    "<p style=\"margin: auto ; padding:10px; font-size: 15px;\">En une seule requête, retourner pour chaque utilisateur son id, son nom, les notes maximale, minimale et\n",
    "moyenne qu’il a données, et ordonner le résultat par note moyenne croissante.</p>\n",
    "<p style=\"margin: auto ; padding:10px; color:#2062D5; font-size: 15px;\"> </p>\n",
    "</div>"
   ]
  },
  {
   "cell_type": "code",
   "execution_count": null,
   "id": "757efcd7",
   "metadata": {},
   "outputs": [],
   "source": [
    "#  db.users.aggregate([{$project: { _id: \"$_id\",name: 1,max_rating: { $max: \"$movies.rating\" },min_rating: { $min: \"$movies.rating\" },\n",
    "# avg_rating: { $avg: \"$movies.rating\" }}},{$sort: {avg_rating: 1}}]) "
   ]
  }
 ],
 "metadata": {
  "kernelspec": {
   "display_name": "Python 3 (ipykernel)",
   "language": "python",
   "name": "python3"
  },
  "language_info": {
   "codemirror_mode": {
    "name": "ipython",
    "version": 3
   },
   "file_extension": ".py",
   "mimetype": "text/x-python",
   "name": "python",
   "nbconvert_exporter": "python",
   "pygments_lexer": "ipython3",
   "version": "3.8.12"
  },
  "toc": {
   "base_numbering": 1,
   "nav_menu": {},
   "number_sections": true,
   "sideBar": true,
   "skip_h1_title": false,
   "title_cell": "Table of Contents",
   "title_sidebar": "Contents",
   "toc_cell": false,
   "toc_position": {},
   "toc_section_display": true,
   "toc_window_display": false
  }
 },
 "nbformat": 4,
 "nbformat_minor": 5
}
